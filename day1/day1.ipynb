{
 "cells": [
  {
   "cell_type": "code",
   "execution_count": 1,
   "id": "756869e9-88a6-4532-9c36-afdea446c25e",
   "metadata": {},
   "outputs": [],
   "source": [
    "a=10\n",
    "b=20\n",
    "c=30"
   ]
  },
  {
   "cell_type": "code",
   "execution_count": 2,
   "id": "3b546eab-40b8-4182-ba5e-32f1e8141629",
   "metadata": {},
   "outputs": [
    {
     "data": {
      "text/plain": [
       "3.0"
      ]
     },
     "execution_count": 2,
     "metadata": {},
     "output_type": "execute_result"
    }
   ],
   "source": [
    "#a+b+c\n",
    "#a*b*c\n",
    "c/a"
   ]
  },
  {
   "cell_type": "code",
   "execution_count": 3,
   "id": "bfaaa902-844c-4f7d-b28b-98263a02f0db",
   "metadata": {},
   "outputs": [
    {
     "data": {
      "text/plain": [
       "'hello world'"
      ]
     },
     "execution_count": 3,
     "metadata": {},
     "output_type": "execute_result"
    }
   ],
   "source": [
    "var1 = \"hello \"\n",
    "var2 = \"world\"\n",
    "var1+var2\n"
   ]
  },
  {
   "cell_type": "code",
   "execution_count": 4,
   "id": "124084f8-2f6e-48d7-ab88-2aaed92b43d6",
   "metadata": {},
   "outputs": [
    {
     "data": {
      "text/plain": [
       "[10, 20, 300, 400, 500, 600, 700]"
      ]
     },
     "execution_count": 4,
     "metadata": {},
     "output_type": "execute_result"
    }
   ],
   "source": [
    "list1 = [10,20]\n",
    "list2 = [300,400]\n",
    "list3 = [500,600,700]\n",
    "list1 + list2 + list3\n",
    "#append된다."
   ]
  },
  {
   "cell_type": "code",
   "execution_count": 5,
   "id": "63e6b5c3-dc1f-41b0-8c4c-695c181967ec",
   "metadata": {},
   "outputs": [],
   "source": [
    "#var1 + list1"
   ]
  },
  {
   "cell_type": "code",
   "execution_count": 6,
   "id": "7bcb6d4d-aece-403a-b78a-b70d0740660e",
   "metadata": {},
   "outputs": [],
   "source": [
    "#type 다르면 연산이 안 됨."
   ]
  },
  {
   "cell_type": "code",
   "execution_count": 7,
   "id": "7e3056a2-33ed-43f3-b142-a121a3eca480",
   "metadata": {},
   "outputs": [
    {
     "data": {
      "text/plain": [
       "[1, 2, 3]"
      ]
     },
     "execution_count": 7,
     "metadata": {},
     "output_type": "execute_result"
    }
   ],
   "source": [
    "#숫자 리스트\n",
    "x = [1,2,3]\n",
    "x"
   ]
  },
  {
   "cell_type": "code",
   "execution_count": 8,
   "id": "e6160186-ea1f-40d4-9099-59e5faf61c19",
   "metadata": {},
   "outputs": [
    {
     "data": {
      "text/plain": [
       "1"
      ]
     },
     "execution_count": 8,
     "metadata": {},
     "output_type": "execute_result"
    }
   ],
   "source": [
    "min(x)"
   ]
  },
  {
   "cell_type": "code",
   "execution_count": 9,
   "id": "604acbed-fdb8-42fc-8eee-0b1b1c387515",
   "metadata": {},
   "outputs": [
    {
     "data": {
      "text/plain": [
       "3"
      ]
     },
     "execution_count": 9,
     "metadata": {},
     "output_type": "execute_result"
    }
   ],
   "source": [
    "max(x)\n"
   ]
  },
  {
   "cell_type": "code",
   "execution_count": 10,
   "id": "ad62eeb9-b009-43ed-b3b7-364a4dff8dc9",
   "metadata": {},
   "outputs": [
    {
     "data": {
      "text/plain": [
       "6"
      ]
     },
     "execution_count": 10,
     "metadata": {},
     "output_type": "execute_result"
    }
   ],
   "source": [
    "sum(x)\n"
   ]
  },
  {
   "cell_type": "code",
   "execution_count": 11,
   "id": "61db25ee-3d18-4c89-8338-6a3086b90a72",
   "metadata": {},
   "outputs": [],
   "source": [
    "def ssuumm(a,b,c,d,e):\n",
    "    return a+b+c+d+e\n",
    "    "
   ]
  },
  {
   "cell_type": "code",
   "execution_count": 12,
   "id": "cb2f7256-dab9-400e-8892-671c4f8a8d1b",
   "metadata": {},
   "outputs": [
    {
     "data": {
      "text/plain": [
       "15"
      ]
     },
     "execution_count": 12,
     "metadata": {},
     "output_type": "execute_result"
    }
   ],
   "source": [
    "ssuumm(1,2,3,4,5)"
   ]
  },
  {
   "cell_type": "code",
   "execution_count": 13,
   "id": "659cca62-3c36-4439-b725-b4335604ca10",
   "metadata": {},
   "outputs": [
    {
     "ename": "ModuleNotFoundError",
     "evalue": "No module named 'seaborn'",
     "output_type": "error",
     "traceback": [
      "\u001b[1;31m---------------------------------------------------------------------------\u001b[0m",
      "\u001b[1;31mModuleNotFoundError\u001b[0m                       Traceback (most recent call last)",
      "\u001b[1;32m~\\AppData\\Local\\Temp\\ipykernel_20052\\4113346472.py\u001b[0m in \u001b[0;36m<module>\u001b[1;34m\u001b[0m\n\u001b[1;32m----> 1\u001b[1;33m \u001b[1;32mimport\u001b[0m \u001b[0mseaborn\u001b[0m \u001b[1;31m#import는 키워드다.\u001b[0m\u001b[1;33m\u001b[0m\u001b[1;33m\u001b[0m\u001b[0m\n\u001b[0m",
      "\u001b[1;31mModuleNotFoundError\u001b[0m: No module named 'seaborn'"
     ]
    }
   ],
   "source": [
    "import seaborn #import는 키워드다."
   ]
  },
  {
   "cell_type": "code",
   "execution_count": null,
   "id": "9bdf8d0c-1c49-46ac-a6be-33d066d720c8",
   "metadata": {},
   "outputs": [],
   "source": [
    "var1 = [1,2,2,3,4,5,5]\n",
    "var2 = [\"a\",\"a\",\"a\",\"b\",\"c\",\"c\"]"
   ]
  },
  {
   "cell_type": "code",
   "execution_count": null,
   "id": "8df82f48-8196-4158-9c1f-fba2ab533cc1",
   "metadata": {},
   "outputs": [],
   "source": [
    "seaborn.countplot(x = var2)"
   ]
  },
  {
   "cell_type": "code",
   "execution_count": null,
   "id": "a38a637a-9f25-4eca-84c8-509613f83fcb",
   "metadata": {},
   "outputs": [],
   "source": [
    "import seaborn as sns\n",
    "sns.get_dataset_names()"
   ]
  },
  {
   "cell_type": "code",
   "execution_count": null,
   "id": "fbfbcc63-8b6d-4ce6-bdf2-089e23ded1c9",
   "metadata": {},
   "outputs": [],
   "source": [
    "df = sns.load_dataset('titanic')"
   ]
  },
  {
   "cell_type": "code",
   "execution_count": null,
   "id": "bea380b6-8eb1-44a6-a08f-98475f0b8c1d",
   "metadata": {},
   "outputs": [],
   "source": [
    "sns.countplot(data = df, x = 'class', hue = 'alive')"
   ]
  },
  {
   "cell_type": "code",
   "execution_count": null,
   "id": "ec6ba097-2195-47e6-b45a-2b07c9dd381c",
   "metadata": {},
   "outputs": [],
   "source": [
    "import pydataset"
   ]
  },
  {
   "cell_type": "code",
   "execution_count": null,
   "id": "2fceee1b-aaed-4b0b-9d98-6aa4c9d49d1d",
   "metadata": {},
   "outputs": [],
   "source": [
    "pip install pydataset\n"
   ]
  },
  {
   "cell_type": "code",
   "execution_count": null,
   "id": "05f8346f-96aa-4512-90fb-c0c73969c71d",
   "metadata": {},
   "outputs": [],
   "source": [
    "pydataset.data('AirPassengers')"
   ]
  },
  {
   "cell_type": "code",
   "execution_count": null,
   "id": "009a4455-b815-48d0-9621-40bb17d841b5",
   "metadata": {},
   "outputs": [],
   "source": [
    "#4\n",
    "import pandas as pd\n"
   ]
  },
  {
   "cell_type": "code",
   "execution_count": null,
   "id": "b60f4cf0-9508-48c2-8fca-67e8f26a5104",
   "metadata": {},
   "outputs": [],
   "source": [
    "df = pd.DataFrame(\n",
    "    {\n",
    "        'name' : ['가가가', '나나나', '다다다', '라라라'],\n",
    "        'english' : [90,80,60,70],\n",
    "        'math' : [50,60,100,20]\n",
    "    }\n",
    ")"
   ]
  },
  {
   "cell_type": "code",
   "execution_count": null,
   "id": "31a76594-0106-4da3-ad20-3a802f4adff8",
   "metadata": {},
   "outputs": [],
   "source": [
    "df"
   ]
  },
  {
   "cell_type": "code",
   "execution_count": null,
   "id": "32083f29-baa9-4df1-88ca-50266a1e7749",
   "metadata": {},
   "outputs": [],
   "source": [
    "df.index"
   ]
  },
  {
   "cell_type": "code",
   "execution_count": null,
   "id": "8070286c-d9bf-4cab-8e7f-cb0c41316301",
   "metadata": {},
   "outputs": [],
   "source": [
    "df.columns"
   ]
  },
  {
   "cell_type": "code",
   "execution_count": null,
   "id": "6024e7be-6ef5-4d81-afaf-cab10ca44805",
   "metadata": {},
   "outputs": [],
   "source": [
    "df.name"
   ]
  },
  {
   "cell_type": "code",
   "execution_count": null,
   "id": "94ede6b9-5d57-4492-a926-52a89ff93483",
   "metadata": {},
   "outputs": [],
   "source": [
    "sum(df['math']) "
   ]
  },
  {
   "cell_type": "code",
   "execution_count": null,
   "id": "e8fbcc52-9cd8-4412-89eb-bd1cc14101f8",
   "metadata": {},
   "outputs": [],
   "source": [
    "df.sum()"
   ]
  },
  {
   "cell_type": "code",
   "execution_count": null,
   "id": "e8d4f662-833d-49c7-8f2b-8c6742632da0",
   "metadata": {},
   "outputs": [],
   "source": [
    "df['math'].sum() / df['math'].count() "
   ]
  },
  {
   "cell_type": "code",
   "execution_count": null,
   "id": "05f6b280-48ff-4b02-81ce-2b581fb356dc",
   "metadata": {},
   "outputs": [],
   "source": [
    "df['math'].mean() "
   ]
  },
  {
   "cell_type": "code",
   "execution_count": null,
   "id": "3f22cc94-7a7c-47ef-8718-3a9257055fe4",
   "metadata": {},
   "outputs": [],
   "source": [
    "df['math']>50"
   ]
  },
  {
   "cell_type": "code",
   "execution_count": null,
   "id": "57fa70af-863e-46ea-97fc-bd92ccd438b6",
   "metadata": {},
   "outputs": [],
   "source": [
    "df1 = pd.DataFrame(\n",
    "    {\n",
    "        '제품' : ['사과','딸기','수박'],\n",
    "        '가격' : [1800,1500,3000],\n",
    "        '판매량' : [24, 38, 13]\n",
    "    }\n",
    ")\n",
    "df1"
   ]
  },
  {
   "cell_type": "code",
   "execution_count": null,
   "id": "ecbfb0aa-5013-4237-959d-7b00ee27e814",
   "metadata": {},
   "outputs": [],
   "source": [
    "df1.index"
   ]
  },
  {
   "cell_type": "code",
   "execution_count": null,
   "id": "cbf780c3-5cdf-4434-8509-4a7d271647f0",
   "metadata": {},
   "outputs": [],
   "source": [
    "df1.columns"
   ]
  },
  {
   "cell_type": "code",
   "execution_count": null,
   "id": "bc2c4bab-c0b7-426b-8d36-5d718e022942",
   "metadata": {},
   "outputs": [],
   "source": [
    "df1['판매량'].mean()"
   ]
  },
  {
   "cell_type": "code",
   "execution_count": null,
   "id": "7d983f30-e8eb-4e6f-9570-6a7d3015f09f",
   "metadata": {},
   "outputs": [],
   "source": [
    "df1.values"
   ]
  },
  {
   "cell_type": "code",
   "execution_count": null,
   "id": "fd477560-d650-4b37-a5d5-114d5adaa89d",
   "metadata": {},
   "outputs": [],
   "source": [
    "df1['가격'].mean()"
   ]
  },
  {
   "cell_type": "code",
   "execution_count": null,
   "id": "787cc97b-9908-452f-bebd-daad534708ba",
   "metadata": {},
   "outputs": [],
   "source": [
    "pip install pandas\n"
   ]
  },
  {
   "cell_type": "code",
   "execution_count": null,
   "id": "8ad261a8-bcce-4f9f-b23d-c2af1c3b8891",
   "metadata": {},
   "outputs": [],
   "source": [
    "import pandas as pd"
   ]
  },
  {
   "cell_type": "code",
   "execution_count": null,
   "id": "35591130-ff44-4477-9b28-3218641d5c1b",
   "metadata": {},
   "outputs": [],
   "source": [
    "df_exam_csv = pd.read_csv('exam.csv')"
   ]
  },
  {
   "cell_type": "code",
   "execution_count": null,
   "id": "60d09a50-5004-4124-82f1-61888624a4b4",
   "metadata": {},
   "outputs": [],
   "source": [
    "df_exam_csv"
   ]
  },
  {
   "cell_type": "code",
   "execution_count": null,
   "id": "e0356768-e3b9-4be8-9ee5-4f97624e528e",
   "metadata": {},
   "outputs": [],
   "source": [
    "df_exam_csv.mean()"
   ]
  },
  {
   "cell_type": "code",
   "execution_count": null,
   "id": "cd007f6a-f065-40e1-9e45-c24c6a914750",
   "metadata": {},
   "outputs": [],
   "source": [
    "df_exam_csv[['math','english','science']].mean()"
   ]
  },
  {
   "cell_type": "code",
   "execution_count": null,
   "id": "184cc140-2046-43bf-b55e-f2e8f2e5b4ce",
   "metadata": {},
   "outputs": [],
   "source": [
    "(df_exam_csv[['math','english','science']]>60).sum()"
   ]
  },
  {
   "cell_type": "code",
   "execution_count": null,
   "id": "6960761b-ba3e-4e55-a1f9-1d794075447a",
   "metadata": {},
   "outputs": [],
   "source": [
    "#5"
   ]
  }
 ],
 "metadata": {
  "kernelspec": {
   "display_name": "Python 3 (ipykernel)",
   "language": "python",
   "name": "python3"
  },
  "language_info": {
   "codemirror_mode": {
    "name": "ipython",
    "version": 3
   },
   "file_extension": ".py",
   "mimetype": "text/x-python",
   "name": "python",
   "nbconvert_exporter": "python",
   "pygments_lexer": "ipython3",
   "version": "3.13.5"
  }
 },
 "nbformat": 4,
 "nbformat_minor": 5
}
