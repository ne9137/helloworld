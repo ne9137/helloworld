{
 "cells": [
  {
   "cell_type": "markdown",
   "id": "7f39907a-5505-4c8b-89c5-713d3ec1a3de",
   "metadata": {},
   "source": [
    "## wiki에서 쓰는 형식"
   ]
  },
  {
   "cell_type": "markdown",
   "id": "e611eead-ebf2-4af6-a39d-ad1fa8bc986b",
   "metadata": {},
   "source": [
    "# 큰제목\n",
    "## 작은제목\n",
    "### 본문\n",
    "<.!--주석-->"
   ]
  },
  {
   "cell_type": "markdown",
   "id": "e6afa1ef-b97b-483a-b769-6267f72d432b",
   "metadata": {},
   "source": [
    "** **굵게**\n",
    "* *기울임*\n",
    "[네이버](www.naver.com)\n"
   ]
  },
  {
   "cell_type": "markdown",
   "id": "0b03b2b4-c008-4c13-82a3-d1d5c2d825ed",
   "metadata": {},
   "source": [
    "|학번|이름|학과|\n",
    "|---:|:---|---| \n",
    "|**2503340144**|*김나은*|소음진동|\n",
    "\n",
    "\n",
    "\n",
    "#### :위치는 정렬을 정할 수 있음\n"
   ]
  }
 ],
 "metadata": {
  "kernelspec": {
   "display_name": "Python 3 (ipykernel)",
   "language": "python",
   "name": "python3"
  },
  "language_info": {
   "codemirror_mode": {
    "name": "ipython",
    "version": 3
   },
   "file_extension": ".py",
   "mimetype": "text/x-python",
   "name": "python",
   "nbconvert_exporter": "python",
   "pygments_lexer": "ipython3",
   "version": "3.13.5"
  }
 },
 "nbformat": 4,
 "nbformat_minor": 5
}
